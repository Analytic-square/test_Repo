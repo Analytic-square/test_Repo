{
 "cells": [
  {
   "cell_type": "code",
   "execution_count": 1,
   "id": "81afd27d",
   "metadata": {},
   "outputs": [
    {
     "data": {
      "text/plain": [
       "7"
      ]
     },
     "execution_count": 1,
     "metadata": {},
     "output_type": "execute_result"
    }
   ],
   "source": [
    " 2 + 5"
   ]
  },
  {
   "cell_type": "code",
   "execution_count": 2,
   "id": "432ecc94",
   "metadata": {},
   "outputs": [
    {
     "data": {
      "text/plain": [
       "3842488"
      ]
     },
     "execution_count": 2,
     "metadata": {},
     "output_type": "execute_result"
    }
   ],
   "source": [
    "3457835 + 384653"
   ]
  },
  {
   "cell_type": "markdown",
   "id": "e48b0b13",
   "metadata": {},
   "source": [
    "# VARIABLES IN PYTHON"
   ]
  },
  {
   "cell_type": "markdown",
   "id": "cd7a62e5",
   "metadata": {},
   "source": [
    "We are Unable to call the digits, for call the particular result ot the value we need containers, becuase we need to contain that value somewhere.\n",
    "\n",
    "Containers are known as Varibales in Python, where a user can store Data.\n",
    "\n",
    "Varibales are temporary storage."
   ]
  },
  {
   "cell_type": "code",
   "execution_count": 5,
   "id": "48587641",
   "metadata": {},
   "outputs": [],
   "source": [
    "x = 388583 + 3864"
   ]
  },
  {
   "cell_type": "code",
   "execution_count": 6,
   "id": "70f8574e",
   "metadata": {},
   "outputs": [
    {
     "data": {
      "text/plain": [
       "392447"
      ]
     },
     "execution_count": 6,
     "metadata": {},
     "output_type": "execute_result"
    }
   ],
   "source": [
    "x"
   ]
  },
  {
   "cell_type": "code",
   "execution_count": 7,
   "id": "e726254a",
   "metadata": {},
   "outputs": [],
   "source": [
    "x = x + 100"
   ]
  },
  {
   "cell_type": "code",
   "execution_count": 8,
   "id": "eb7c6e9e",
   "metadata": {},
   "outputs": [
    {
     "data": {
      "text/plain": [
       "392547"
      ]
     },
     "execution_count": 8,
     "metadata": {},
     "output_type": "execute_result"
    }
   ],
   "source": [
    "x"
   ]
  },
  {
   "cell_type": "code",
   "execution_count": 9,
   "id": "6cfb8a1c",
   "metadata": {},
   "outputs": [],
   "source": [
    "x =10\n",
    "y = 20"
   ]
  },
  {
   "cell_type": "code",
   "execution_count": 10,
   "id": "d250bb1e",
   "metadata": {},
   "outputs": [
    {
     "data": {
      "text/plain": [
       "(10, 20)"
      ]
     },
     "execution_count": 10,
     "metadata": {},
     "output_type": "execute_result"
    }
   ],
   "source": [
    "x,y"
   ]
  },
  {
   "cell_type": "code",
   "execution_count": 11,
   "id": "82e108c8",
   "metadata": {},
   "outputs": [
    {
     "data": {
      "text/plain": [
       "30"
      ]
     },
     "execution_count": 11,
     "metadata": {},
     "output_type": "execute_result"
    }
   ],
   "source": [
    "x + y"
   ]
  },
  {
   "cell_type": "code",
   "execution_count": 12,
   "id": "ad94d739",
   "metadata": {},
   "outputs": [],
   "source": [
    "z = 30"
   ]
  },
  {
   "cell_type": "code",
   "execution_count": 13,
   "id": "a8862f3c",
   "metadata": {},
   "outputs": [
    {
     "data": {
      "text/plain": [
       "(10, 20, 30)"
      ]
     },
     "execution_count": 13,
     "metadata": {},
     "output_type": "execute_result"
    }
   ],
   "source": [
    "x,y,z"
   ]
  },
  {
   "cell_type": "code",
   "execution_count": 14,
   "id": "27a4ffab",
   "metadata": {},
   "outputs": [],
   "source": [
    "name = \"Daksh\""
   ]
  },
  {
   "cell_type": "code",
   "execution_count": 15,
   "id": "3d6baa57",
   "metadata": {},
   "outputs": [
    {
     "data": {
      "text/plain": [
       "'Daksh'"
      ]
     },
     "execution_count": 15,
     "metadata": {},
     "output_type": "execute_result"
    }
   ],
   "source": [
    "name"
   ]
  },
  {
   "cell_type": "code",
   "execution_count": 21,
   "id": "353f930e",
   "metadata": {},
   "outputs": [],
   "source": [
    "full_name = name + \"Dev\""
   ]
  },
  {
   "cell_type": "code",
   "execution_count": 22,
   "id": "3caeae3b",
   "metadata": {},
   "outputs": [
    {
     "data": {
      "text/plain": [
       "'DakshDev'"
      ]
     },
     "execution_count": 22,
     "metadata": {},
     "output_type": "execute_result"
    }
   ],
   "source": [
    "full_name"
   ]
  },
  {
   "cell_type": "markdown",
   "id": "43534e92",
   "metadata": {},
   "source": [
    "# Indexing With Python"
   ]
  },
  {
   "cell_type": "code",
   "execution_count": 23,
   "id": "9b9709da",
   "metadata": {},
   "outputs": [
    {
     "data": {
      "text/plain": [
       "'k'"
      ]
     },
     "execution_count": 23,
     "metadata": {},
     "output_type": "execute_result"
    }
   ],
   "source": [
    "full_name[2]"
   ]
  },
  {
   "cell_type": "code",
   "execution_count": 24,
   "id": "ddde4266",
   "metadata": {},
   "outputs": [
    {
     "data": {
      "text/plain": [
       "'v'"
      ]
     },
     "execution_count": 24,
     "metadata": {},
     "output_type": "execute_result"
    }
   ],
   "source": [
    "full_name[7]"
   ]
  },
  {
   "cell_type": "markdown",
   "id": "e7e8cbca",
   "metadata": {},
   "source": [
    "Exract characters through indexing"
   ]
  },
  {
   "cell_type": "code",
   "execution_count": 27,
   "id": "fb0ff157",
   "metadata": {},
   "outputs": [
    {
     "data": {
      "text/plain": [
       "'Daksh'"
      ]
     },
     "execution_count": 27,
     "metadata": {},
     "output_type": "execute_result"
    }
   ],
   "source": [
    "full_name[0:5]"
   ]
  },
  {
   "cell_type": "code",
   "execution_count": 32,
   "id": "a7107d76",
   "metadata": {},
   "outputs": [
    {
     "data": {
      "text/plain": [
       "'Daksh'"
      ]
     },
     "execution_count": 32,
     "metadata": {},
     "output_type": "execute_result"
    }
   ],
   "source": [
    "full_name[:5]"
   ]
  },
  {
   "cell_type": "markdown",
   "id": "0a76480b",
   "metadata": {},
   "source": [
    "# DATA TYPEES in PYTHON\n"
   ]
  },
  {
   "cell_type": "markdown",
   "id": "bc198d44",
   "metadata": {},
   "source": [
    "Every varibale is associated with a Data Type\n",
    "\n",
    "There are 4 Data Types in Python\n",
    "\n",
    "1. Int\n",
    "2. Float\n",
    "3. String\n",
    "4. Boolean\n",
    "5. Complex"
   ]
  },
  {
   "cell_type": "code",
   "execution_count": 33,
   "id": "8874adc1",
   "metadata": {},
   "outputs": [],
   "source": [
    "a = 10"
   ]
  },
  {
   "cell_type": "code",
   "execution_count": 35,
   "id": "e31c291e",
   "metadata": {},
   "outputs": [
    {
     "data": {
      "text/plain": [
       "int"
      ]
     },
     "execution_count": 35,
     "metadata": {},
     "output_type": "execute_result"
    }
   ],
   "source": [
    "type(a)"
   ]
  },
  {
   "cell_type": "code",
   "execution_count": 36,
   "id": "8d9f8401",
   "metadata": {},
   "outputs": [
    {
     "data": {
      "text/plain": [
       "float"
      ]
     },
     "execution_count": 36,
     "metadata": {},
     "output_type": "execute_result"
    }
   ],
   "source": [
    "b= 2.2\n",
    "type(b)"
   ]
  },
  {
   "cell_type": "code",
   "execution_count": 41,
   "id": "b7cca576",
   "metadata": {},
   "outputs": [],
   "source": [
    "c = True"
   ]
  },
  {
   "cell_type": "code",
   "execution_count": 42,
   "id": "24bdc752",
   "metadata": {},
   "outputs": [
    {
     "data": {
      "text/plain": [
       "bool"
      ]
     },
     "execution_count": 42,
     "metadata": {},
     "output_type": "execute_result"
    }
   ],
   "source": [
    "type(c)"
   ]
  },
  {
   "cell_type": "code",
   "execution_count": 39,
   "id": "abcc6e39",
   "metadata": {},
   "outputs": [],
   "source": [
    "d = \"Himanshu\""
   ]
  },
  {
   "cell_type": "code",
   "execution_count": 40,
   "id": "0ba34eac",
   "metadata": {},
   "outputs": [
    {
     "data": {
      "text/plain": [
       "str"
      ]
     },
     "execution_count": 40,
     "metadata": {},
     "output_type": "execute_result"
    }
   ],
   "source": [
    "type(d)"
   ]
  },
  {
   "cell_type": "code",
   "execution_count": 43,
   "id": "bf0fd797",
   "metadata": {},
   "outputs": [],
   "source": [
    "e = 3+3j"
   ]
  },
  {
   "cell_type": "code",
   "execution_count": 44,
   "id": "e748ae68",
   "metadata": {},
   "outputs": [
    {
     "data": {
      "text/plain": [
       "complex"
      ]
     },
     "execution_count": 44,
     "metadata": {},
     "output_type": "execute_result"
    }
   ],
   "source": [
    "type(e)"
   ]
  },
  {
   "cell_type": "markdown",
   "id": "2531caf4",
   "metadata": {},
   "source": [
    "# Operators in Python"
   ]
  },
  {
   "cell_type": "markdown",
   "id": "0799f95b",
   "metadata": {},
   "source": [
    "1. Arithmetic\n",
    "2. Logical\n",
    "3. Relational"
   ]
  },
  {
   "cell_type": "code",
   "execution_count": 46,
   "id": "36f198d8",
   "metadata": {},
   "outputs": [],
   "source": [
    "# Arithmetic Operators (+, -, *, /)\n",
    "\n",
    "a = 50\n",
    "b = 10"
   ]
  },
  {
   "cell_type": "code",
   "execution_count": 47,
   "id": "b66172ff",
   "metadata": {},
   "outputs": [
    {
     "data": {
      "text/plain": [
       "(50, 10)"
      ]
     },
     "execution_count": 47,
     "metadata": {},
     "output_type": "execute_result"
    }
   ],
   "source": [
    "a,b"
   ]
  },
  {
   "cell_type": "code",
   "execution_count": 51,
   "id": "a866dfad",
   "metadata": {},
   "outputs": [
    {
     "data": {
      "text/plain": [
       "5.0"
      ]
     },
     "execution_count": 51,
     "metadata": {},
     "output_type": "execute_result"
    }
   ],
   "source": [
    "a / b"
   ]
  },
  {
   "cell_type": "code",
   "execution_count": 53,
   "id": "6688abfc",
   "metadata": {},
   "outputs": [
    {
     "data": {
      "text/plain": [
       "(50, 10)"
      ]
     },
     "execution_count": 53,
     "metadata": {},
     "output_type": "execute_result"
    }
   ],
   "source": [
    "# Relational Operators (<, >, ==, !=)\n",
    "\n",
    "a,b"
   ]
  },
  {
   "cell_type": "code",
   "execution_count": 57,
   "id": "d675488e",
   "metadata": {},
   "outputs": [
    {
     "data": {
      "text/plain": [
       "True"
      ]
     },
     "execution_count": 57,
     "metadata": {},
     "output_type": "execute_result"
    }
   ],
   "source": [
    "a!=b"
   ]
  },
  {
   "cell_type": "code",
   "execution_count": 60,
   "id": "7a8348c1",
   "metadata": {},
   "outputs": [],
   "source": [
    "# Logical Operators (&, |)\n",
    "\n",
    "a = True\n",
    "b = False"
   ]
  },
  {
   "cell_type": "code",
   "execution_count": 62,
   "id": "2ca85011",
   "metadata": {},
   "outputs": [
    {
     "data": {
      "text/plain": [
       "False"
      ]
     },
     "execution_count": 62,
     "metadata": {},
     "output_type": "execute_result"
    }
   ],
   "source": [
    "a & b"
   ]
  },
  {
   "cell_type": "code",
   "execution_count": 63,
   "id": "ca3a9e65",
   "metadata": {},
   "outputs": [
    {
     "data": {
      "text/plain": [
       "True"
      ]
     },
     "execution_count": 63,
     "metadata": {},
     "output_type": "execute_result"
    }
   ],
   "source": [
    "a | b"
   ]
  },
  {
   "cell_type": "code",
   "execution_count": 64,
   "id": "9b76d1eb",
   "metadata": {},
   "outputs": [
    {
     "data": {
      "text/plain": [
       "True"
      ]
     },
     "execution_count": 64,
     "metadata": {},
     "output_type": "execute_result"
    }
   ],
   "source": [
    "b | a"
   ]
  },
  {
   "cell_type": "markdown",
   "id": "1518f283",
   "metadata": {},
   "source": [
    "# PYTHON STRINGS"
   ]
  },
  {
   "cell_type": "code",
   "execution_count": 65,
   "id": "8e1990ec",
   "metadata": {},
   "outputs": [],
   "source": [
    "a = \"Hello World\""
   ]
  },
  {
   "cell_type": "code",
   "execution_count": 66,
   "id": "f6e4ca5e",
   "metadata": {},
   "outputs": [
    {
     "data": {
      "text/plain": [
       "11"
      ]
     },
     "execution_count": 66,
     "metadata": {},
     "output_type": "execute_result"
    }
   ],
   "source": [
    "len(a)"
   ]
  },
  {
   "cell_type": "code",
   "execution_count": 67,
   "id": "2cdcfcc3",
   "metadata": {},
   "outputs": [
    {
     "data": {
      "text/plain": [
       "'Hello World'"
      ]
     },
     "execution_count": 67,
     "metadata": {},
     "output_type": "execute_result"
    }
   ],
   "source": [
    "a"
   ]
  },
  {
   "cell_type": "code",
   "execution_count": 68,
   "id": "db879587",
   "metadata": {},
   "outputs": [
    {
     "data": {
      "text/plain": [
       "'HELLO WORLD'"
      ]
     },
     "execution_count": 68,
     "metadata": {},
     "output_type": "execute_result"
    }
   ],
   "source": [
    "a.upper()"
   ]
  },
  {
   "cell_type": "code",
   "execution_count": 69,
   "id": "87488346",
   "metadata": {},
   "outputs": [
    {
     "data": {
      "text/plain": [
       "'hello world'"
      ]
     },
     "execution_count": 69,
     "metadata": {},
     "output_type": "execute_result"
    }
   ],
   "source": [
    "a.lower()"
   ]
  },
  {
   "cell_type": "code",
   "execution_count": 72,
   "id": "4fe585f2",
   "metadata": {},
   "outputs": [
    {
     "data": {
      "text/plain": [
       "'Hello world'"
      ]
     },
     "execution_count": 72,
     "metadata": {},
     "output_type": "execute_result"
    }
   ],
   "source": [
    "a.capitalize()"
   ]
  },
  {
   "cell_type": "code",
   "execution_count": 73,
   "id": "5d9390a5",
   "metadata": {},
   "outputs": [],
   "source": [
    "a = 'Hello Hello Hello Hello'"
   ]
  },
  {
   "cell_type": "code",
   "execution_count": 74,
   "id": "b8d5b4c3",
   "metadata": {},
   "outputs": [
    {
     "data": {
      "text/plain": [
       "4"
      ]
     },
     "execution_count": 74,
     "metadata": {},
     "output_type": "execute_result"
    }
   ],
   "source": [
    "a.count('Hello')"
   ]
  },
  {
   "cell_type": "code",
   "execution_count": 91,
   "id": "df719147",
   "metadata": {},
   "outputs": [],
   "source": [
    "a = \"Welcome to today's class folkz\""
   ]
  },
  {
   "cell_type": "code",
   "execution_count": 76,
   "id": "0167dbc8",
   "metadata": {},
   "outputs": [],
   "source": [
    "b = a[0:8]"
   ]
  },
  {
   "cell_type": "code",
   "execution_count": 77,
   "id": "bb437021",
   "metadata": {},
   "outputs": [
    {
     "data": {
      "text/plain": [
       "'Welcome '"
      ]
     },
     "execution_count": 77,
     "metadata": {},
     "output_type": "execute_result"
    }
   ],
   "source": [
    "b"
   ]
  },
  {
   "cell_type": "code",
   "execution_count": 81,
   "id": "335bc6ba",
   "metadata": {},
   "outputs": [
    {
     "data": {
      "text/plain": [
       "\"Welcome to toay's class folkz\""
      ]
     },
     "execution_count": 81,
     "metadata": {},
     "output_type": "execute_result"
    }
   ],
   "source": [
    "a"
   ]
  },
  {
   "cell_type": "code",
   "execution_count": 100,
   "id": "b0b5b9ab",
   "metadata": {},
   "outputs": [
    {
     "data": {
      "text/plain": [
       "False"
      ]
     },
     "execution_count": 100,
     "metadata": {},
     "output_type": "execute_result"
    }
   ],
   "source": [
    "a.isalnum()"
   ]
  },
  {
   "cell_type": "code",
   "execution_count": 115,
   "id": "b85814f2",
   "metadata": {},
   "outputs": [],
   "source": [
    "b = \"CHAR\""
   ]
  },
  {
   "cell_type": "code",
   "execution_count": 117,
   "id": "5cf7b94e",
   "metadata": {},
   "outputs": [
    {
     "data": {
      "text/plain": [
       "True"
      ]
     },
     "execution_count": 117,
     "metadata": {},
     "output_type": "execute_result"
    }
   ],
   "source": [
    "b.isupper()"
   ]
  },
  {
   "cell_type": "code",
   "execution_count": 121,
   "id": "8bf33654",
   "metadata": {},
   "outputs": [
    {
     "data": {
      "text/plain": [
       "'$$$CHAR$$$'"
      ]
     },
     "execution_count": 121,
     "metadata": {},
     "output_type": "execute_result"
    }
   ],
   "source": [
    "b.center(10,'$')"
   ]
  },
  {
   "cell_type": "code",
   "execution_count": null,
   "id": "e626c4a9",
   "metadata": {},
   "outputs": [],
   "source": []
  },
  {
   "cell_type": "code",
   "execution_count": null,
   "id": "7f2f021f",
   "metadata": {},
   "outputs": [],
   "source": []
  },
  {
   "cell_type": "code",
   "execution_count": null,
   "id": "d510bd6d",
   "metadata": {},
   "outputs": [],
   "source": []
  },
  {
   "cell_type": "code",
   "execution_count": null,
   "id": "baf47905",
   "metadata": {},
   "outputs": [],
   "source": []
  },
  {
   "cell_type": "code",
   "execution_count": null,
   "id": "46ca1ed4",
   "metadata": {},
   "outputs": [],
   "source": []
  },
  {
   "cell_type": "code",
   "execution_count": null,
   "id": "133ad4ec",
   "metadata": {},
   "outputs": [],
   "source": []
  },
  {
   "cell_type": "code",
   "execution_count": null,
   "id": "fd60f9c5",
   "metadata": {},
   "outputs": [],
   "source": []
  }
 ],
 "metadata": {
  "kernelspec": {
   "display_name": "Python 3",
   "language": "python",
   "name": "python3"
  },
  "language_info": {
   "codemirror_mode": {
    "name": "ipython",
    "version": 3
   },
   "file_extension": ".py",
   "mimetype": "text/x-python",
   "name": "python",
   "nbconvert_exporter": "python",
   "pygments_lexer": "ipython3",
   "version": "3.8.8"
  }
 },
 "nbformat": 4,
 "nbformat_minor": 5
}
